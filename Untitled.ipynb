{
 "cells": [
  {
   "cell_type": "code",
   "execution_count": 1,
   "metadata": {},
   "outputs": [
    {
     "name": "stdout",
     "output_type": "stream",
     "text": [
      "data1: mean=24.611 stdv=3.728\n",
      "data2: mean=25.039 stdv=4.020\n"
     ]
    }
   ],
   "source": [
    "\"\"\"\n",
    "* Mann-Whitney U test for comparing independent data samples: the nonparametric version of the Student t-test.\n",
    "* Wilcoxon signed-rank test for comparing paired data samples: the nonparametric version of the paired Student t-test.\n",
    "* Kruskal-Wallis H test for comparing more than two data samples: the nonparametric version of the ANOVA.\n",
    "* Friedman test for comparing more than two data samples: the nonparametric version of repeated measures ANOVA test (two-way ANOVA).\n",
    "\"\"\"\n",
    "\n",
    "# generate gaussian data samples\n",
    "from numpy.random import seed\n",
    "from numpy.random import randn\n",
    "from numpy import mean\n",
    "from numpy import std\n",
    "\n",
    "# seed the random number generator\n",
    "seed(1)\n",
    "\n",
    "#  100 Gaussian random numbers, mean = 0, std = 1\n",
    "randn(100)\n",
    "\n",
    "# generate two sets of univariate observations\n",
    "# data1 > mean = 24, std = 4\n",
    "# data2 > mean = 25, std = 4\n",
    "\n",
    "data1 = 4 * randn(100) + 24\n",
    "data2 = 4 * randn(100) + 25\n",
    "# summarize\n",
    "print('data1: mean=%.3f stdv=%.3f' % (mean(data1), std(data1)))\n",
    "print('data2: mean=%.3f stdv=%.3f' % (mean(data2), std(data2)))"
   ]
  },
  {
   "cell_type": "code",
   "execution_count": null,
   "metadata": {},
   "outputs": [],
   "source": []
  }
 ],
 "metadata": {
  "kernelspec": {
   "display_name": "Python 3",
   "language": "python",
   "name": "python3"
  },
  "language_info": {
   "codemirror_mode": {
    "name": "ipython",
    "version": 3
   },
   "file_extension": ".py",
   "mimetype": "text/x-python",
   "name": "python",
   "nbconvert_exporter": "python",
   "pygments_lexer": "ipython3",
   "version": "3.6.7"
  }
 },
 "nbformat": 4,
 "nbformat_minor": 2
}
